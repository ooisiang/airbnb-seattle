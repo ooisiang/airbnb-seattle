{
 "cells": [
  {
   "cell_type": "markdown",
   "metadata": {},
   "source": [
    "# 1. Business Understanding\n",
    "\n",
    "This is Seattle Airbnb Open Data which can be found on kaggle. The data contains 3 different datasets which provide information like the listing availability and its price, listing's description, listing's location, host's information, listing's review and so on. By providing the hosts useful market information, Airbnb can attract more hosts to its platform and increase the chances of a booking to be made and as a result, earn more service fees. This project aims to make observations from the datasets to draw conclusion that will benefit the hosts.\n",
    "\n",
    "These are the questions we try to answer:\n",
    "1. Which month has the least available listings in Seattle which has the least competition in the market?\n",
    "2. How does number of available listings relate with price? Which month has the highest average price?\n",
    "3. Do superhosts have better review scores? Could hosts use the review scores to keep track their progress?"
   ]
  },
  {
   "cell_type": "markdown",
   "metadata": {},
   "source": [
    "# 2. Data Understanding\n",
    "\n",
    "### Access"
   ]
  },
  {
   "cell_type": "code",
   "execution_count": 1,
   "metadata": {},
   "outputs": [],
   "source": [
    "import pandas as pd\n",
    "import numpy as np\n",
    "import matplotlib.pyplot as plt\n",
    "from sklearn.linear_model import LinearRegression\n",
    "from sklearn.model_selection import train_test_split\n",
    "from sklearn.metrics import r2_score, mean_squared_error\n",
    "import seaborn as sns\n",
    "%matplotlib inline"
   ]
  },
  {
   "cell_type": "markdown",
   "metadata": {},
   "source": [
    "### Check how big the dataset is, the types and have a first glance on the dataset"
   ]
  },
  {
   "cell_type": "code",
   "execution_count": 2,
   "metadata": {},
   "outputs": [
    {
     "data": {
      "text/plain": [
       "((1393570, 4), (3818, 92), (84849, 6))"
      ]
     },
     "execution_count": 2,
     "metadata": {},
     "output_type": "execute_result"
    }
   ],
   "source": [
    "df_calendar = pd.read_csv('./data/calendar.csv')\n",
    "df_listings = pd.read_csv('./data/listings.csv')\n",
    "df_reviews = pd.read_csv('./data/reviews.csv')\n",
    "\n",
    "df_calendar.shape, df_listings.shape, df_reviews.shape"
   ]
  },
  {
   "cell_type": "code",
   "execution_count": 3,
   "metadata": {},
   "outputs": [
    {
     "data": {
      "text/plain": [
       "Index(['id', 'listing_url', 'scrape_id', 'last_scraped', 'name', 'summary',\n",
       "       'space', 'description', 'experiences_offered', 'neighborhood_overview',\n",
       "       'notes', 'transit', 'thumbnail_url', 'medium_url', 'picture_url',\n",
       "       'xl_picture_url', 'host_id', 'host_url', 'host_name', 'host_since',\n",
       "       'host_location', 'host_about', 'host_response_time',\n",
       "       'host_response_rate', 'host_acceptance_rate', 'host_is_superhost',\n",
       "       'host_thumbnail_url', 'host_picture_url', 'host_neighbourhood',\n",
       "       'host_listings_count', 'host_total_listings_count',\n",
       "       'host_verifications', 'host_has_profile_pic', 'host_identity_verified',\n",
       "       'street', 'neighbourhood', 'neighbourhood_cleansed',\n",
       "       'neighbourhood_group_cleansed', 'city', 'state', 'zipcode', 'market',\n",
       "       'smart_location', 'country_code', 'country', 'latitude', 'longitude',\n",
       "       'is_location_exact', 'property_type', 'room_type', 'accommodates',\n",
       "       'bathrooms', 'bedrooms', 'beds', 'bed_type', 'amenities', 'square_feet',\n",
       "       'price', 'weekly_price', 'monthly_price', 'security_deposit',\n",
       "       'cleaning_fee', 'guests_included', 'extra_people', 'minimum_nights',\n",
       "       'maximum_nights', 'calendar_updated', 'has_availability',\n",
       "       'availability_30', 'availability_60', 'availability_90',\n",
       "       'availability_365', 'calendar_last_scraped', 'number_of_reviews',\n",
       "       'first_review', 'last_review', 'review_scores_rating',\n",
       "       'review_scores_accuracy', 'review_scores_cleanliness',\n",
       "       'review_scores_checkin', 'review_scores_communication',\n",
       "       'review_scores_location', 'review_scores_value', 'requires_license',\n",
       "       'license', 'jurisdiction_names', 'instant_bookable',\n",
       "       'cancellation_policy', 'require_guest_profile_picture',\n",
       "       'require_guest_phone_verification', 'calculated_host_listings_count',\n",
       "       'reviews_per_month'],\n",
       "      dtype='object')"
      ]
     },
     "execution_count": 3,
     "metadata": {},
     "output_type": "execute_result"
    }
   ],
   "source": [
    "df_listings.columns"
   ]
  },
  {
   "cell_type": "code",
   "execution_count": 4,
   "metadata": {},
   "outputs": [
    {
     "data": {
      "text/html": [
       "<div>\n",
       "<style scoped>\n",
       "    .dataframe tbody tr th:only-of-type {\n",
       "        vertical-align: middle;\n",
       "    }\n",
       "\n",
       "    .dataframe tbody tr th {\n",
       "        vertical-align: top;\n",
       "    }\n",
       "\n",
       "    .dataframe thead th {\n",
       "        text-align: right;\n",
       "    }\n",
       "</style>\n",
       "<table border=\"1\" class=\"dataframe\">\n",
       "  <thead>\n",
       "    <tr style=\"text-align: right;\">\n",
       "      <th></th>\n",
       "      <th>listing_id</th>\n",
       "      <th>date</th>\n",
       "      <th>available</th>\n",
       "      <th>price</th>\n",
       "    </tr>\n",
       "  </thead>\n",
       "  <tbody>\n",
       "    <tr>\n",
       "      <th>0</th>\n",
       "      <td>241032</td>\n",
       "      <td>2016-01-04</td>\n",
       "      <td>t</td>\n",
       "      <td>$85.00</td>\n",
       "    </tr>\n",
       "    <tr>\n",
       "      <th>1</th>\n",
       "      <td>241032</td>\n",
       "      <td>2016-01-05</td>\n",
       "      <td>t</td>\n",
       "      <td>$85.00</td>\n",
       "    </tr>\n",
       "    <tr>\n",
       "      <th>2</th>\n",
       "      <td>241032</td>\n",
       "      <td>2016-01-06</td>\n",
       "      <td>f</td>\n",
       "      <td>NaN</td>\n",
       "    </tr>\n",
       "    <tr>\n",
       "      <th>3</th>\n",
       "      <td>241032</td>\n",
       "      <td>2016-01-07</td>\n",
       "      <td>f</td>\n",
       "      <td>NaN</td>\n",
       "    </tr>\n",
       "    <tr>\n",
       "      <th>4</th>\n",
       "      <td>241032</td>\n",
       "      <td>2016-01-08</td>\n",
       "      <td>f</td>\n",
       "      <td>NaN</td>\n",
       "    </tr>\n",
       "  </tbody>\n",
       "</table>\n",
       "</div>"
      ],
      "text/plain": [
       "   listing_id        date available   price\n",
       "0      241032  2016-01-04         t  $85.00\n",
       "1      241032  2016-01-05         t  $85.00\n",
       "2      241032  2016-01-06         f     NaN\n",
       "3      241032  2016-01-07         f     NaN\n",
       "4      241032  2016-01-08         f     NaN"
      ]
     },
     "execution_count": 4,
     "metadata": {},
     "output_type": "execute_result"
    }
   ],
   "source": [
    "df_calendar.head()"
   ]
  },
  {
   "cell_type": "code",
   "execution_count": 5,
   "metadata": {},
   "outputs": [
    {
     "data": {
      "text/plain": [
       "listing_id     int64\n",
       "date          object\n",
       "available     object\n",
       "price         object\n",
       "dtype: object"
      ]
     },
     "execution_count": 5,
     "metadata": {},
     "output_type": "execute_result"
    }
   ],
   "source": [
    "df_calendar.dtypes"
   ]
  },
  {
   "cell_type": "markdown",
   "metadata": {},
   "source": [
    "## Q1. Which month has the least available listings in Seattle?"
   ]
  },
  {
   "cell_type": "markdown",
   "metadata": {},
   "source": [
    "### Access\n",
    "#### Check if there is any missing value in the date and availabilty"
   ]
  },
  {
   "cell_type": "code",
   "execution_count": 6,
   "metadata": {},
   "outputs": [
    {
     "data": {
      "text/plain": [
       "listing_id    0.00000\n",
       "date          0.00000\n",
       "available     0.00000\n",
       "price         0.32939\n",
       "dtype: float64"
      ]
     },
     "execution_count": 6,
     "metadata": {},
     "output_type": "execute_result"
    }
   ],
   "source": [
    "df_calendar.isna().mean()"
   ]
  },
  {
   "cell_type": "markdown",
   "metadata": {},
   "source": [
    "#### Check how many data is available for eac listing"
   ]
  },
  {
   "cell_type": "code",
   "execution_count": 7,
   "metadata": {},
   "outputs": [
    {
     "data": {
      "text/html": [
       "<div>\n",
       "<style scoped>\n",
       "    .dataframe tbody tr th:only-of-type {\n",
       "        vertical-align: middle;\n",
       "    }\n",
       "\n",
       "    .dataframe tbody tr th {\n",
       "        vertical-align: top;\n",
       "    }\n",
       "\n",
       "    .dataframe thead th {\n",
       "        text-align: right;\n",
       "    }\n",
       "</style>\n",
       "<table border=\"1\" class=\"dataframe\">\n",
       "  <thead>\n",
       "    <tr style=\"text-align: right;\">\n",
       "      <th></th>\n",
       "      <th>date</th>\n",
       "      <th>available</th>\n",
       "      <th>price</th>\n",
       "    </tr>\n",
       "    <tr>\n",
       "      <th>listing_id</th>\n",
       "      <th></th>\n",
       "      <th></th>\n",
       "      <th></th>\n",
       "    </tr>\n",
       "  </thead>\n",
       "  <tbody>\n",
       "    <tr>\n",
       "      <th>3335</th>\n",
       "      <td>365</td>\n",
       "      <td>365</td>\n",
       "      <td>309</td>\n",
       "    </tr>\n",
       "    <tr>\n",
       "      <th>4291</th>\n",
       "      <td>365</td>\n",
       "      <td>365</td>\n",
       "      <td>365</td>\n",
       "    </tr>\n",
       "    <tr>\n",
       "      <th>5682</th>\n",
       "      <td>365</td>\n",
       "      <td>365</td>\n",
       "      <td>309</td>\n",
       "    </tr>\n",
       "    <tr>\n",
       "      <th>6606</th>\n",
       "      <td>365</td>\n",
       "      <td>365</td>\n",
       "      <td>365</td>\n",
       "    </tr>\n",
       "    <tr>\n",
       "      <th>7369</th>\n",
       "      <td>365</td>\n",
       "      <td>365</td>\n",
       "      <td>53</td>\n",
       "    </tr>\n",
       "    <tr>\n",
       "      <th>...</th>\n",
       "      <td>...</td>\n",
       "      <td>...</td>\n",
       "      <td>...</td>\n",
       "    </tr>\n",
       "    <tr>\n",
       "      <th>10332096</th>\n",
       "      <td>365</td>\n",
       "      <td>365</td>\n",
       "      <td>365</td>\n",
       "    </tr>\n",
       "    <tr>\n",
       "      <th>10334184</th>\n",
       "      <td>365</td>\n",
       "      <td>365</td>\n",
       "      <td>361</td>\n",
       "    </tr>\n",
       "    <tr>\n",
       "      <th>10339144</th>\n",
       "      <td>365</td>\n",
       "      <td>365</td>\n",
       "      <td>0</td>\n",
       "    </tr>\n",
       "    <tr>\n",
       "      <th>10339145</th>\n",
       "      <td>365</td>\n",
       "      <td>365</td>\n",
       "      <td>365</td>\n",
       "    </tr>\n",
       "    <tr>\n",
       "      <th>10340165</th>\n",
       "      <td>365</td>\n",
       "      <td>365</td>\n",
       "      <td>358</td>\n",
       "    </tr>\n",
       "  </tbody>\n",
       "</table>\n",
       "<p>3818 rows × 3 columns</p>\n",
       "</div>"
      ],
      "text/plain": [
       "            date  available  price\n",
       "listing_id                        \n",
       "3335         365        365    309\n",
       "4291         365        365    365\n",
       "5682         365        365    309\n",
       "6606         365        365    365\n",
       "7369         365        365     53\n",
       "...          ...        ...    ...\n",
       "10332096     365        365    365\n",
       "10334184     365        365    361\n",
       "10339144     365        365      0\n",
       "10339145     365        365    365\n",
       "10340165     365        365    358\n",
       "\n",
       "[3818 rows x 3 columns]"
      ]
     },
     "execution_count": 7,
     "metadata": {},
     "output_type": "execute_result"
    }
   ],
   "source": [
    "df_calendar.groupby('listing_id').count() #count the number of data for each listing in the calendar dataframe"
   ]
  },
  {
   "cell_type": "code",
   "execution_count": 8,
   "metadata": {},
   "outputs": [
    {
     "data": {
      "text/plain": [
       "365.0"
      ]
     },
     "execution_count": 8,
     "metadata": {},
     "output_type": "execute_result"
    }
   ],
   "source": [
    "df_calendar.groupby('listing_id').count()['date'].mean() #check how many dates are available for each listing"
   ]
  },
  {
   "cell_type": "markdown",
   "metadata": {},
   "source": [
    "## 3. Data Preparation\n",
    "\n",
    "### Clean\n",
    "\n",
    "#### Convert the date to datetime type to extract information about the month of the date"
   ]
  },
  {
   "cell_type": "code",
   "execution_count": 9,
   "metadata": {},
   "outputs": [],
   "source": [
    "df_calendar['date'] = pd.to_datetime(df_calendar['date'], format=\"%Y/%m/%d\") #convert date object to datatime type"
   ]
  },
  {
   "cell_type": "code",
   "execution_count": 10,
   "metadata": {},
   "outputs": [
    {
     "data": {
      "text/plain": [
       "listing_id             int64\n",
       "date          datetime64[ns]\n",
       "available             object\n",
       "price                 object\n",
       "dtype: object"
      ]
     },
     "execution_count": 10,
     "metadata": {},
     "output_type": "execute_result"
    }
   ],
   "source": [
    "df_calendar.dtypes"
   ]
  },
  {
   "cell_type": "markdown",
   "metadata": {},
   "source": [
    "#### Re-access the date now to see if all listings are within the same time frame"
   ]
  },
  {
   "cell_type": "code",
   "execution_count": 11,
   "metadata": {},
   "outputs": [
    {
     "data": {
      "text/plain": [
       "listing_id\n",
       "3335       2016-01-04\n",
       "4291       2016-01-04\n",
       "5682       2016-01-04\n",
       "6606       2016-01-04\n",
       "7369       2016-01-04\n",
       "              ...    \n",
       "10332096   2016-01-04\n",
       "10334184   2016-01-04\n",
       "10339144   2016-01-04\n",
       "10339145   2016-01-04\n",
       "10340165   2016-01-04\n",
       "Name: date, Length: 3818, dtype: datetime64[ns]"
      ]
     },
     "execution_count": 11,
     "metadata": {},
     "output_type": "execute_result"
    }
   ],
   "source": [
    "df_calendar.groupby('listing_id').date.min()"
   ]
  },
  {
   "cell_type": "code",
   "execution_count": 12,
   "metadata": {},
   "outputs": [
    {
     "data": {
      "text/plain": [
       "1.0"
      ]
     },
     "execution_count": 12,
     "metadata": {},
     "output_type": "execute_result"
    }
   ],
   "source": [
    "df_calendar.groupby('listing_id').date.min().dt.date.duplicated(keep=False).mean() #check if all listing has the same start date"
   ]
  },
  {
   "cell_type": "code",
   "execution_count": 13,
   "metadata": {},
   "outputs": [
    {
     "data": {
      "text/plain": [
       "listing_id\n",
       "3335       2017-01-02\n",
       "4291       2017-01-02\n",
       "5682       2017-01-02\n",
       "6606       2017-01-02\n",
       "7369       2017-01-02\n",
       "              ...    \n",
       "10332096   2017-01-02\n",
       "10334184   2017-01-02\n",
       "10339144   2017-01-02\n",
       "10339145   2017-01-02\n",
       "10340165   2017-01-02\n",
       "Name: date, Length: 3818, dtype: datetime64[ns]"
      ]
     },
     "execution_count": 13,
     "metadata": {},
     "output_type": "execute_result"
    }
   ],
   "source": [
    "df_calendar.groupby('listing_id').date.max()"
   ]
  },
  {
   "cell_type": "code",
   "execution_count": 14,
   "metadata": {},
   "outputs": [
    {
     "data": {
      "text/plain": [
       "1.0"
      ]
     },
     "execution_count": 14,
     "metadata": {},
     "output_type": "execute_result"
    }
   ],
   "source": [
    "df_calendar.groupby('listing_id').date.max().dt.date.duplicated(keep=False).mean() #check if all listing has the same end date"
   ]
  },
  {
   "cell_type": "markdown",
   "metadata": {},
   "source": [
    "#### Split the date into year, month and date columns for easier data accessing"
   ]
  },
  {
   "cell_type": "code",
   "execution_count": 15,
   "metadata": {},
   "outputs": [],
   "source": [
    "# Split the date into year, month, date and add extra columns for each of them\n",
    "df_calendar['year'] = df_calendar['date'].dt.year\n",
    "df_calendar['month'] = df_calendar['date'].dt.month\n",
    "df_calendar['day'] = df_calendar['date'].dt.day"
   ]
  },
  {
   "cell_type": "code",
   "execution_count": 16,
   "metadata": {},
   "outputs": [
    {
     "data": {
      "text/plain": [
       "listing_id             int64\n",
       "date          datetime64[ns]\n",
       "available             object\n",
       "price                 object\n",
       "year                   int64\n",
       "month                  int64\n",
       "day                    int64\n",
       "dtype: object"
      ]
     },
     "execution_count": 16,
     "metadata": {},
     "output_type": "execute_result"
    }
   ],
   "source": [
    "df_calendar.dtypes"
   ]
  },
  {
   "cell_type": "markdown",
   "metadata": {},
   "source": [
    "## 4. Modelling\n",
    "\n",
    "### Analyze"
   ]
  },
  {
   "cell_type": "markdown",
   "metadata": {},
   "source": [
    "#### Choose only the available listing and group them by month and see how many listings are available in each month"
   ]
  },
  {
   "cell_type": "code",
   "execution_count": 17,
   "metadata": {},
   "outputs": [
    {
     "data": {
      "text/html": [
       "<div>\n",
       "<style scoped>\n",
       "    .dataframe tbody tr th:only-of-type {\n",
       "        vertical-align: middle;\n",
       "    }\n",
       "\n",
       "    .dataframe tbody tr th {\n",
       "        vertical-align: top;\n",
       "    }\n",
       "\n",
       "    .dataframe thead th {\n",
       "        text-align: right;\n",
       "    }\n",
       "</style>\n",
       "<table border=\"1\" class=\"dataframe\">\n",
       "  <thead>\n",
       "    <tr style=\"text-align: right;\">\n",
       "      <th></th>\n",
       "      <th>listing_id</th>\n",
       "      <th>date</th>\n",
       "      <th>available</th>\n",
       "      <th>price</th>\n",
       "      <th>year</th>\n",
       "      <th>day</th>\n",
       "    </tr>\n",
       "    <tr>\n",
       "      <th>month</th>\n",
       "      <th></th>\n",
       "      <th></th>\n",
       "      <th></th>\n",
       "      <th></th>\n",
       "      <th></th>\n",
       "      <th></th>\n",
       "    </tr>\n",
       "  </thead>\n",
       "  <tbody>\n",
       "    <tr>\n",
       "      <th>1</th>\n",
       "      <td>64937</td>\n",
       "      <td>64937</td>\n",
       "      <td>64937</td>\n",
       "      <td>64937</td>\n",
       "      <td>64937</td>\n",
       "      <td>64937</td>\n",
       "    </tr>\n",
       "    <tr>\n",
       "      <th>2</th>\n",
       "      <td>73321</td>\n",
       "      <td>73321</td>\n",
       "      <td>73321</td>\n",
       "      <td>73321</td>\n",
       "      <td>73321</td>\n",
       "      <td>73321</td>\n",
       "    </tr>\n",
       "    <tr>\n",
       "      <th>3</th>\n",
       "      <td>83938</td>\n",
       "      <td>83938</td>\n",
       "      <td>83938</td>\n",
       "      <td>83938</td>\n",
       "      <td>83938</td>\n",
       "      <td>83938</td>\n",
       "    </tr>\n",
       "    <tr>\n",
       "      <th>4</th>\n",
       "      <td>76037</td>\n",
       "      <td>76037</td>\n",
       "      <td>76037</td>\n",
       "      <td>76037</td>\n",
       "      <td>76037</td>\n",
       "      <td>76037</td>\n",
       "    </tr>\n",
       "    <tr>\n",
       "      <th>5</th>\n",
       "      <td>79971</td>\n",
       "      <td>79971</td>\n",
       "      <td>79971</td>\n",
       "      <td>79971</td>\n",
       "      <td>79971</td>\n",
       "      <td>79971</td>\n",
       "    </tr>\n",
       "    <tr>\n",
       "      <th>6</th>\n",
       "      <td>77244</td>\n",
       "      <td>77244</td>\n",
       "      <td>77244</td>\n",
       "      <td>77244</td>\n",
       "      <td>77244</td>\n",
       "      <td>77244</td>\n",
       "    </tr>\n",
       "    <tr>\n",
       "      <th>7</th>\n",
       "      <td>74222</td>\n",
       "      <td>74222</td>\n",
       "      <td>74222</td>\n",
       "      <td>74222</td>\n",
       "      <td>74222</td>\n",
       "      <td>74222</td>\n",
       "    </tr>\n",
       "    <tr>\n",
       "      <th>8</th>\n",
       "      <td>76347</td>\n",
       "      <td>76347</td>\n",
       "      <td>76347</td>\n",
       "      <td>76347</td>\n",
       "      <td>76347</td>\n",
       "      <td>76347</td>\n",
       "    </tr>\n",
       "    <tr>\n",
       "      <th>9</th>\n",
       "      <td>77246</td>\n",
       "      <td>77246</td>\n",
       "      <td>77246</td>\n",
       "      <td>77246</td>\n",
       "      <td>77246</td>\n",
       "      <td>77246</td>\n",
       "    </tr>\n",
       "    <tr>\n",
       "      <th>10</th>\n",
       "      <td>82438</td>\n",
       "      <td>82438</td>\n",
       "      <td>82438</td>\n",
       "      <td>82438</td>\n",
       "      <td>82438</td>\n",
       "      <td>82438</td>\n",
       "    </tr>\n",
       "    <tr>\n",
       "      <th>11</th>\n",
       "      <td>81780</td>\n",
       "      <td>81780</td>\n",
       "      <td>81780</td>\n",
       "      <td>81780</td>\n",
       "      <td>81780</td>\n",
       "      <td>81780</td>\n",
       "    </tr>\n",
       "    <tr>\n",
       "      <th>12</th>\n",
       "      <td>87061</td>\n",
       "      <td>87061</td>\n",
       "      <td>87061</td>\n",
       "      <td>87061</td>\n",
       "      <td>87061</td>\n",
       "      <td>87061</td>\n",
       "    </tr>\n",
       "  </tbody>\n",
       "</table>\n",
       "</div>"
      ],
      "text/plain": [
       "       listing_id   date  available  price   year    day\n",
       "month                                                   \n",
       "1           64937  64937      64937  64937  64937  64937\n",
       "2           73321  73321      73321  73321  73321  73321\n",
       "3           83938  83938      83938  83938  83938  83938\n",
       "4           76037  76037      76037  76037  76037  76037\n",
       "5           79971  79971      79971  79971  79971  79971\n",
       "6           77244  77244      77244  77244  77244  77244\n",
       "7           74222  74222      74222  74222  74222  74222\n",
       "8           76347  76347      76347  76347  76347  76347\n",
       "9           77246  77246      77246  77246  77246  77246\n",
       "10          82438  82438      82438  82438  82438  82438\n",
       "11          81780  81780      81780  81780  81780  81780\n",
       "12          87061  87061      87061  87061  87061  87061"
      ]
     },
     "execution_count": 17,
     "metadata": {},
     "output_type": "execute_result"
    }
   ],
   "source": [
    "# Choose only the available listings\n",
    "df_available_listing = df_calendar[df_calendar.available=='t'].copy()\n",
    "df_available_listing_counts = df_available_listing.groupby('month').count()\n",
    "df_available_listing_counts"
   ]
  },
  {
   "cell_type": "markdown",
   "metadata": {},
   "source": [
    "## 5. Data Evaluation\n",
    "\n",
    "### Visualize"
   ]
  },
  {
   "cell_type": "code",
   "execution_count": 18,
   "metadata": {},
   "outputs": [
    {
     "data": {
      "image/png": "[encoded data removed]",
      "text/plain": [
       "<Figure size 432x288 with 1 Axes>"
      ]
     },
     "metadata": {
      "needs_background": "light"
     },
     "output_type": "display_data"
    }
   ],
   "source": [
    "# Group the available listings by month and plot the number of listings in each month in a bar chart\n",
    "ax = df_available_listing_counts.plot.bar(y='listing_id', label='No. of Available Listings')\n",
    "ax.set_xlabel('Months');\n",
    "ax.set_ylabel('No. of Available Listings');\n",
    "ax.set_title('Number of Available Listings in Each Month');\n",
    "\n",
    "#Needed so that the legend box will not be cut off during figure export\n",
    "handles, labels = ax.get_legend_handles_labels()\n",
    "lgd = ax.legend(handles, labels, bbox_to_anchor=(1, 1))\n",
    "text = ax.text(0,0, \"\", transform=ax.transAxes)\n",
    "\n",
    "plt.savefig('listings.png', bbox_extra_artists=(lgd, text), bbox_inches='tight')"
   ]
  },
  {
   "cell_type": "markdown",
   "metadata": {},
   "source": [
    "## Q2. How does number of available listings relate with price? Which month has the highest average price?"
   ]
  },
  {
   "cell_type": "markdown",
   "metadata": {},
   "source": [
    "## 2. Data Understanding\n",
    "\n",
    "### Access"
   ]
  },
  {
   "cell_type": "code",
   "execution_count": 19,
   "metadata": {},
   "outputs": [
    {
     "data": {
      "text/plain": [
       "0.0"
      ]
     },
     "execution_count": 19,
     "metadata": {},
     "output_type": "execute_result"
    }
   ],
   "source": [
    "df_available_listing['price'].isna().mean() #check if each available listing has a price."
   ]
  },
  {
   "cell_type": "markdown",
   "metadata": {},
   "source": [
    "## 3. Data Preparation\n",
    "\n",
    "### Clean\n",
    "\n",
    "#### Price is an object, not an integer when we check the data types before. Now it's time to convert the price to integer type"
   ]
  },
  {
   "cell_type": "code",
   "execution_count": 20,
   "metadata": {},
   "outputs": [
    {
     "data": {
      "text/html": [
       "<div>\n",
       "<style scoped>\n",
       "    .dataframe tbody tr th:only-of-type {\n",
       "        vertical-align: middle;\n",
       "    }\n",
       "\n",
       "    .dataframe tbody tr th {\n",
       "        vertical-align: top;\n",
       "    }\n",
       "\n",
       "    .dataframe thead th {\n",
       "        text-align: right;\n",
       "    }\n",
       "</style>\n",
       "<table border=\"1\" class=\"dataframe\">\n",
       "  <thead>\n",
       "    <tr style=\"text-align: right;\">\n",
       "      <th></th>\n",
       "      <th>listing_id</th>\n",
       "      <th>date</th>\n",
       "      <th>available</th>\n",
       "      <th>price</th>\n",
       "      <th>year</th>\n",
       "      <th>month</th>\n",
       "      <th>day</th>\n",
       "    </tr>\n",
       "  </thead>\n",
       "  <tbody>\n",
       "    <tr>\n",
       "      <th>0</th>\n",
       "      <td>241032</td>\n",
       "      <td>2016-01-04</td>\n",
       "      <td>t</td>\n",
       "      <td>85</td>\n",
       "      <td>2016</td>\n",
       "      <td>1</td>\n",
       "      <td>4</td>\n",
       "    </tr>\n",
       "    <tr>\n",
       "      <th>1</th>\n",
       "      <td>241032</td>\n",
       "      <td>2016-01-05</td>\n",
       "      <td>t</td>\n",
       "      <td>85</td>\n",
       "      <td>2016</td>\n",
       "      <td>1</td>\n",
       "      <td>5</td>\n",
       "    </tr>\n",
       "    <tr>\n",
       "      <th>9</th>\n",
       "      <td>241032</td>\n",
       "      <td>2016-01-13</td>\n",
       "      <td>t</td>\n",
       "      <td>85</td>\n",
       "      <td>2016</td>\n",
       "      <td>1</td>\n",
       "      <td>13</td>\n",
       "    </tr>\n",
       "    <tr>\n",
       "      <th>10</th>\n",
       "      <td>241032</td>\n",
       "      <td>2016-01-14</td>\n",
       "      <td>t</td>\n",
       "      <td>85</td>\n",
       "      <td>2016</td>\n",
       "      <td>1</td>\n",
       "      <td>14</td>\n",
       "    </tr>\n",
       "    <tr>\n",
       "      <th>14</th>\n",
       "      <td>241032</td>\n",
       "      <td>2016-01-18</td>\n",
       "      <td>t</td>\n",
       "      <td>85</td>\n",
       "      <td>2016</td>\n",
       "      <td>1</td>\n",
       "      <td>18</td>\n",
       "    </tr>\n",
       "    <tr>\n",
       "      <th>...</th>\n",
       "      <td>...</td>\n",
       "      <td>...</td>\n",
       "      <td>...</td>\n",
       "      <td>...</td>\n",
       "      <td>...</td>\n",
       "      <td>...</td>\n",
       "      <td>...</td>\n",
       "    </tr>\n",
       "    <tr>\n",
       "      <th>1393207</th>\n",
       "      <td>10208623</td>\n",
       "      <td>2016-01-06</td>\n",
       "      <td>t</td>\n",
       "      <td>87</td>\n",
       "      <td>2016</td>\n",
       "      <td>1</td>\n",
       "      <td>6</td>\n",
       "    </tr>\n",
       "    <tr>\n",
       "      <th>1393208</th>\n",
       "      <td>10208623</td>\n",
       "      <td>2016-01-07</td>\n",
       "      <td>t</td>\n",
       "      <td>87</td>\n",
       "      <td>2016</td>\n",
       "      <td>1</td>\n",
       "      <td>7</td>\n",
       "    </tr>\n",
       "    <tr>\n",
       "      <th>1393211</th>\n",
       "      <td>10208623</td>\n",
       "      <td>2016-01-10</td>\n",
       "      <td>t</td>\n",
       "      <td>87</td>\n",
       "      <td>2016</td>\n",
       "      <td>1</td>\n",
       "      <td>10</td>\n",
       "    </tr>\n",
       "    <tr>\n",
       "      <th>1393212</th>\n",
       "      <td>10208623</td>\n",
       "      <td>2016-01-11</td>\n",
       "      <td>t</td>\n",
       "      <td>87</td>\n",
       "      <td>2016</td>\n",
       "      <td>1</td>\n",
       "      <td>11</td>\n",
       "    </tr>\n",
       "    <tr>\n",
       "      <th>1393213</th>\n",
       "      <td>10208623</td>\n",
       "      <td>2016-01-12</td>\n",
       "      <td>t</td>\n",
       "      <td>87</td>\n",
       "      <td>2016</td>\n",
       "      <td>1</td>\n",
       "      <td>12</td>\n",
       "    </tr>\n",
       "  </tbody>\n",
       "</table>\n",
       "<p>934542 rows × 7 columns</p>\n",
       "</div>"
      ],
      "text/plain": [
       "         listing_id       date available  price  year  month  day\n",
       "0            241032 2016-01-04         t     85  2016      1    4\n",
       "1            241032 2016-01-05         t     85  2016      1    5\n",
       "9            241032 2016-01-13         t     85  2016      1   13\n",
       "10           241032 2016-01-14         t     85  2016      1   14\n",
       "14           241032 2016-01-18         t     85  2016      1   18\n",
       "...             ...        ...       ...    ...   ...    ...  ...\n",
       "1393207    10208623 2016-01-06         t     87  2016      1    6\n",
       "1393208    10208623 2016-01-07         t     87  2016      1    7\n",
       "1393211    10208623 2016-01-10         t     87  2016      1   10\n",
       "1393212    10208623 2016-01-11         t     87  2016      1   11\n",
       "1393213    10208623 2016-01-12         t     87  2016      1   12\n",
       "\n",
       "[934542 rows x 7 columns]"
      ]
     },
     "execution_count": 20,
     "metadata": {},
     "output_type": "execute_result"
    }
   ],
   "source": [
    "#elminate dollar sign, and commas from the price and set it to integer\n",
    "df_available_listing.loc[:, 'price'] = df_available_listing['price'].replace('[\\$\\,]|\\.\\d*', '', regex=True).astype(int)\n",
    "df_available_listing"
   ]
  },
  {
   "cell_type": "markdown",
   "metadata": {},
   "source": [
    "## 4. Modelling\n",
    "\n",
    "### Analyze\n",
    "\n",
    "#### Calculate the average price for all listings in each month. Processing of data in the dataframe and calculation is sum up in a function"
   ]
  },
  {
   "cell_type": "code",
   "execution_count": 21,
   "metadata": {},
   "outputs": [],
   "source": [
    "def cal_months_avg_price(df):\n",
    "    \"\"\"\n",
    "    This function is used to calculate the average price for all available listings in each month.\n",
    "    \n",
    "    Parameters:\n",
    "    df - Pandas DataFrame which contains all available listings with respective price and month as integer\n",
    "    \n",
    "    return:\n",
    "    df_result - A Pandas Dataframe which contains the listing_id and its average price in all months\n",
    "    months_list - A list of months detected in the df\n",
    "    \n",
    "    \"\"\"\n",
    "    # Create list of listing_ids and months in df\n",
    "    listings_list = list(set(df['listing_id']))\n",
    "    months_list = list(set(df['month']))\n",
    "    \n",
    "    # intialization of variables\n",
    "    avg_price_list = np.zeros((len(listings_list),12))\n",
    "    row_count = 0;\n",
    "    col_count = 0;\n",
    "    \n",
    "    # for each listing_id, select a certain month and compute its mean\n",
    "    for month in months_list:\n",
    "        for listing in listings_list:\n",
    "            sel_listing = df['listing_id'] == listing\n",
    "            sel_month = df['month'] == month\n",
    "\n",
    "            if (df[sel_listing & sel_month].empty != False):\n",
    "                avg_price_list[row_count, col_count] = np.NaN\n",
    "            else:\n",
    "                avg_price_list[row_count, col_count] = df[sel_listing & sel_month].price.mean()\n",
    "            \n",
    "            row_count += 1\n",
    "            \n",
    "        col_count += 1\n",
    "        row_count = 0\n",
    "        \n",
    "    # Output results in a data frame\n",
    "    d = {'listing_id': listings_list, 'Jan': avg_price_list[:, 0],\n",
    "        'Feb': avg_price_list[:, 1],\n",
    "        'March': avg_price_list[:, 2],\n",
    "        'April': avg_price_list[:, 3],\n",
    "        'May': avg_price_list[:, 4],\n",
    "        'June': avg_price_list[:, 5],\n",
    "        'July': avg_price_list[:, 6],\n",
    "        'Aug': avg_price_list[:, 7],\n",
    "        'Sep': avg_price_list[:, 8],\n",
    "        'Oct': avg_price_list[:, 9],\n",
    "        'Nov': avg_price_list[:, 10],\n",
    "        'Dec': avg_price_list[:, 11]}\n",
    "    \n",
    "    df_result = pd.DataFrame(data=d).round(2)\n",
    "    df_result = df_result.set_index('listing_id')\n",
    "\n",
    "\n",
    "    return df_result, months_list"
   ]
  },
  {
   "cell_type": "markdown",
   "metadata": {},
   "source": [
    "#### After calculation, check the results by checking the head of the results dataframe"
   ]
  },
  {
   "cell_type": "code",
   "execution_count": 22,
   "metadata": {},
   "outputs": [
    {
     "data": {
      "text/html": [
       "<div>\n",
       "<style scoped>\n",
       "    .dataframe tbody tr th:only-of-type {\n",
       "        vertical-align: middle;\n",
       "    }\n",
       "\n",
       "    .dataframe tbody tr th {\n",
       "        vertical-align: top;\n",
       "    }\n",
       "\n",
       "    .dataframe thead th {\n",
       "        text-align: right;\n",
       "    }\n",
       "</style>\n",
       "<table border=\"1\" class=\"dataframe\">\n",
       "  <thead>\n",
       "    <tr style=\"text-align: right;\">\n",
       "      <th></th>\n",
       "      <th>Jan</th>\n",
       "      <th>Feb</th>\n",
       "      <th>March</th>\n",
       "      <th>April</th>\n",
       "      <th>May</th>\n",
       "      <th>June</th>\n",
       "      <th>July</th>\n",
       "      <th>Aug</th>\n",
       "      <th>Sep</th>\n",
       "      <th>Oct</th>\n",
       "      <th>Nov</th>\n",
       "      <th>Dec</th>\n",
       "    </tr>\n",
       "    <tr>\n",
       "      <th>listing_id</th>\n",
       "      <th></th>\n",
       "      <th></th>\n",
       "      <th></th>\n",
       "      <th></th>\n",
       "      <th></th>\n",
       "      <th></th>\n",
       "      <th></th>\n",
       "      <th></th>\n",
       "      <th></th>\n",
       "      <th></th>\n",
       "      <th></th>\n",
       "      <th></th>\n",
       "    </tr>\n",
       "  </thead>\n",
       "  <tbody>\n",
       "    <tr>\n",
       "      <th>8953857</th>\n",
       "      <td>129.00</td>\n",
       "      <td>NaN</td>\n",
       "      <td>NaN</td>\n",
       "      <td>138.33</td>\n",
       "      <td>137.39</td>\n",
       "      <td>137.0</td>\n",
       "      <td>136.1</td>\n",
       "      <td>155.16</td>\n",
       "      <td>135.0</td>\n",
       "      <td>134.81</td>\n",
       "      <td>134.33</td>\n",
       "      <td>135.45</td>\n",
       "    </tr>\n",
       "    <tr>\n",
       "      <th>2727938</th>\n",
       "      <td>91.25</td>\n",
       "      <td>85.00</td>\n",
       "      <td>87.56</td>\n",
       "      <td>99.47</td>\n",
       "      <td>110.00</td>\n",
       "      <td>NaN</td>\n",
       "      <td>NaN</td>\n",
       "      <td>NaN</td>\n",
       "      <td>NaN</td>\n",
       "      <td>NaN</td>\n",
       "      <td>NaN</td>\n",
       "      <td>NaN</td>\n",
       "    </tr>\n",
       "    <tr>\n",
       "      <th>598023</th>\n",
       "      <td>99.00</td>\n",
       "      <td>99.00</td>\n",
       "      <td>99.00</td>\n",
       "      <td>99.00</td>\n",
       "      <td>99.00</td>\n",
       "      <td>99.0</td>\n",
       "      <td>99.0</td>\n",
       "      <td>99.00</td>\n",
       "      <td>99.0</td>\n",
       "      <td>99.00</td>\n",
       "      <td>99.00</td>\n",
       "      <td>99.00</td>\n",
       "    </tr>\n",
       "    <tr>\n",
       "      <th>794633</th>\n",
       "      <td>114.58</td>\n",
       "      <td>100.17</td>\n",
       "      <td>107.81</td>\n",
       "      <td>136.20</td>\n",
       "      <td>191.74</td>\n",
       "      <td>198.0</td>\n",
       "      <td>198.0</td>\n",
       "      <td>198.00</td>\n",
       "      <td>198.0</td>\n",
       "      <td>198.00</td>\n",
       "      <td>198.00</td>\n",
       "      <td>198.00</td>\n",
       "    </tr>\n",
       "    <tr>\n",
       "      <th>958475</th>\n",
       "      <td>85.00</td>\n",
       "      <td>85.00</td>\n",
       "      <td>85.00</td>\n",
       "      <td>85.00</td>\n",
       "      <td>NaN</td>\n",
       "      <td>NaN</td>\n",
       "      <td>NaN</td>\n",
       "      <td>NaN</td>\n",
       "      <td>NaN</td>\n",
       "      <td>NaN</td>\n",
       "      <td>NaN</td>\n",
       "      <td>85.00</td>\n",
       "    </tr>\n",
       "  </tbody>\n",
       "</table>\n",
       "</div>"
      ],
      "text/plain": [
       "               Jan     Feb   March   April     May   June   July     Aug  \\\n",
       "listing_id                                                                 \n",
       "8953857     129.00     NaN     NaN  138.33  137.39  137.0  136.1  155.16   \n",
       "2727938      91.25   85.00   87.56   99.47  110.00    NaN    NaN     NaN   \n",
       "598023       99.00   99.00   99.00   99.00   99.00   99.0   99.0   99.00   \n",
       "794633      114.58  100.17  107.81  136.20  191.74  198.0  198.0  198.00   \n",
       "958475       85.00   85.00   85.00   85.00     NaN    NaN    NaN     NaN   \n",
       "\n",
       "              Sep     Oct     Nov     Dec  \n",
       "listing_id                                 \n",
       "8953857     135.0  134.81  134.33  135.45  \n",
       "2727938       NaN     NaN     NaN     NaN  \n",
       "598023       99.0   99.00   99.00   99.00  \n",
       "794633      198.0  198.00  198.00  198.00  \n",
       "958475        NaN     NaN     NaN   85.00  "
      ]
     },
     "execution_count": 22,
     "metadata": {},
     "output_type": "execute_result"
    }
   ],
   "source": [
    "# Compute average price for all available listings in each month\n",
    "df_month_avg_price, months_list = cal_months_avg_price(df_available_listing)\n",
    "df_month_avg_price.head()"
   ]
  },
  {
   "cell_type": "markdown",
   "metadata": {},
   "source": [
    "#### Check the size of the results dataframe and the computed months in the function to make sure the result is plausible"
   ]
  },
  {
   "cell_type": "code",
   "execution_count": 23,
   "metadata": {},
   "outputs": [
    {
     "data": {
      "text/plain": [
       "((3723, 12), [1, 2, 3, 4, 5, 6, 7, 8, 9, 10, 11, 12])"
      ]
     },
     "execution_count": 23,
     "metadata": {},
     "output_type": "execute_result"
    }
   ],
   "source": [
    "df_month_avg_price.shape, months_list"
   ]
  },
  {
   "cell_type": "markdown",
   "metadata": {},
   "source": [
    "## 5. Data Evaluation\n",
    "\n",
    "### Visualize"
   ]
  },
  {
   "cell_type": "markdown",
   "metadata": {},
   "source": [
    "#### Combine the Q2 results with Q1 for a better understanding of the relationship between price and number of available listing"
   ]
  },
  {
   "cell_type": "code",
   "execution_count": 24,
   "metadata": {},
   "outputs": [
    {
     "data": {
      "image/png": "[encoded data removed]",
      "text/plain": [
       "<Figure size 432x288 with 2 Axes>"
      ]
     },
     "metadata": {
      "needs_background": "light"
     },
     "output_type": "display_data"
    }
   ],
   "source": [
    "#Plot 2 results in the same axes\n",
    "ax = df_available_listing_counts.plot.bar(y='listing_id', style='b', legend=True)\n",
    "df_month_avg_price.mean(axis=0, skipna=True).plot(ax=ax, style='r', legend=True, secondary_y=True)\n",
    "\n",
    "#customization of the plots\n",
    "lgd = ax.legend(['No. of Available Listings'], bbox_to_anchor=(1.65, 1))\n",
    "ax.right_ax.legend(['Average Price'], bbox_to_anchor=(1.5, 0.9))\n",
    "ax.set_xlabel('Months')\n",
    "ax.set_ylabel('No. of Available Listings')\n",
    "ax.right_ax.set_ylabel('Average Price/$')\n",
    "ax.right_ax.set_yticks([80, 90, 100, 110, 120, 130, 140, 150, 160])\n",
    "\n",
    "#Needed so that the legend box will not be cut off during figure export\n",
    "handles, labels = ax.get_legend_handles_labels()\n",
    "text = ax.text(0,0, \"\", transform=ax.transAxes)\n",
    "ax.set_title('No. of Available Listings & Average Price');\n",
    "\n",
    "#Export the image for medium blog post\n",
    "plt.savefig('listing_vs_price.png', bbox_extra_artists=(lgd, text), bbox_inches='tight')"
   ]
  },
  {
   "cell_type": "markdown",
   "metadata": {},
   "source": [
    "## Q3. Do superhosts have better review scores? Could hosts use the review scores to keep track their progress?"
   ]
  },
  {
   "cell_type": "markdown",
   "metadata": {},
   "source": [
    "## 2. Data Understanding"
   ]
  },
  {
   "cell_type": "markdown",
   "metadata": {},
   "source": [
    "### Access\n",
    "\n",
    "#### Check the shape and columns in the dataset to find the relevant review column names"
   ]
  },
  {
   "cell_type": "code",
   "execution_count": 25,
   "metadata": {},
   "outputs": [
    {
     "data": {
      "text/plain": [
       "(3818, 92)"
      ]
     },
     "execution_count": 25,
     "metadata": {},
     "output_type": "execute_result"
    }
   ],
   "source": [
    "df_listings.shape"
   ]
  },
  {
   "cell_type": "code",
   "execution_count": 26,
   "metadata": {},
   "outputs": [
    {
     "data": {
      "text/plain": [
       "Index(['id', 'listing_url', 'scrape_id', 'last_scraped', 'name', 'summary',\n",
       "       'space', 'description', 'experiences_offered', 'neighborhood_overview',\n",
       "       'notes', 'transit', 'thumbnail_url', 'medium_url', 'picture_url',\n",
       "       'xl_picture_url', 'host_id', 'host_url', 'host_name', 'host_since',\n",
       "       'host_location', 'host_about', 'host_response_time',\n",
       "       'host_response_rate', 'host_acceptance_rate', 'host_is_superhost',\n",
       "       'host_thumbnail_url', 'host_picture_url', 'host_neighbourhood',\n",
       "       'host_listings_count', 'host_total_listings_count',\n",
       "       'host_verifications', 'host_has_profile_pic', 'host_identity_verified',\n",
       "       'street', 'neighbourhood', 'neighbourhood_cleansed',\n",
       "       'neighbourhood_group_cleansed', 'city', 'state', 'zipcode', 'market',\n",
       "       'smart_location', 'country_code', 'country', 'latitude', 'longitude',\n",
       "       'is_location_exact', 'property_type', 'room_type', 'accommodates',\n",
       "       'bathrooms', 'bedrooms', 'beds', 'bed_type', 'amenities', 'square_feet',\n",
       "       'price', 'weekly_price', 'monthly_price', 'security_deposit',\n",
       "       'cleaning_fee', 'guests_included', 'extra_people', 'minimum_nights',\n",
       "       'maximum_nights', 'calendar_updated', 'has_availability',\n",
       "       'availability_30', 'availability_60', 'availability_90',\n",
       "       'availability_365', 'calendar_last_scraped', 'number_of_reviews',\n",
       "       'first_review', 'last_review', 'review_scores_rating',\n",
       "       'review_scores_accuracy', 'review_scores_cleanliness',\n",
       "       'review_scores_checkin', 'review_scores_communication',\n",
       "       'review_scores_location', 'review_scores_value', 'requires_license',\n",
       "       'license', 'jurisdiction_names', 'instant_bookable',\n",
       "       'cancellation_policy', 'require_guest_profile_picture',\n",
       "       'require_guest_phone_verification', 'calculated_host_listings_count',\n",
       "       'reviews_per_month'],\n",
       "      dtype='object')"
      ]
     },
     "execution_count": 26,
     "metadata": {},
     "output_type": "execute_result"
    }
   ],
   "source": [
    "df_listings.columns"
   ]
  },
  {
   "cell_type": "markdown",
   "metadata": {},
   "source": [
    "#### Check if there is any NaN in the superhost and review scores columns"
   ]
  },
  {
   "cell_type": "code",
   "execution_count": 27,
   "metadata": {},
   "outputs": [
    {
     "data": {
      "text/plain": [
       "0.0005238344683080147"
      ]
     },
     "execution_count": 27,
     "metadata": {},
     "output_type": "execute_result"
    }
   ],
   "source": [
    "df_listings['host_is_superhost'].isna().mean()"
   ]
  },
  {
   "cell_type": "code",
   "execution_count": 28,
   "metadata": {},
   "outputs": [
    {
     "data": {
      "text/plain": [
       "0.16946045049764275"
      ]
     },
     "execution_count": 28,
     "metadata": {},
     "output_type": "execute_result"
    }
   ],
   "source": [
    "df_listings['review_scores_rating'].isna().mean()"
   ]
  },
  {
   "cell_type": "code",
   "execution_count": 29,
   "metadata": {},
   "outputs": [
    {
     "data": {
      "text/plain": [
       "0.17103195390256679"
      ]
     },
     "execution_count": 29,
     "metadata": {},
     "output_type": "execute_result"
    }
   ],
   "source": [
    "df_listings['review_scores_cleanliness'].isna().mean()"
   ]
  },
  {
   "cell_type": "code",
   "execution_count": 30,
   "metadata": {},
   "outputs": [
    {
     "data": {
      "text/plain": [
       "0.17234154007333682"
      ]
     },
     "execution_count": 30,
     "metadata": {},
     "output_type": "execute_result"
    }
   ],
   "source": [
    "df_listings['review_scores_checkin'].isna().mean()"
   ]
  },
  {
   "cell_type": "code",
   "execution_count": 31,
   "metadata": {},
   "outputs": [
    {
     "data": {
      "text/plain": [
       "0.17050811943425878"
      ]
     },
     "execution_count": 31,
     "metadata": {},
     "output_type": "execute_result"
    }
   ],
   "source": [
    "df_listings['review_scores_communication'].isna().mean()"
   ]
  },
  {
   "cell_type": "code",
   "execution_count": 32,
   "metadata": {},
   "outputs": [
    {
     "data": {
      "text/plain": [
       "0.1715557883708748"
      ]
     },
     "execution_count": 32,
     "metadata": {},
     "output_type": "execute_result"
    }
   ],
   "source": [
    "df_listings['review_scores_location'].isna().mean()"
   ]
  },
  {
   "cell_type": "code",
   "execution_count": 33,
   "metadata": {},
   "outputs": [
    {
     "data": {
      "text/plain": [
       "0.17181770560502882"
      ]
     },
     "execution_count": 33,
     "metadata": {},
     "output_type": "execute_result"
    }
   ],
   "source": [
    "df_listings['review_scores_value'].isna().mean()"
   ]
  },
  {
   "cell_type": "markdown",
   "metadata": {},
   "source": [
    "## 3. Data Preparation\n",
    "\n",
    "### Clean"
   ]
  },
  {
   "cell_type": "code",
   "execution_count": 34,
   "metadata": {},
   "outputs": [
    {
     "data": {
      "text/plain": [
       "(3158, 92)"
      ]
     },
     "execution_count": 34,
     "metadata": {},
     "output_type": "execute_result"
    }
   ],
   "source": [
    "# Drop NaN in the 'host_is_superhost' and review columns\n",
    "target_col_list =['host_is_superhost','review_scores_rating','review_scores_accuracy','review_scores_cleanliness',\n",
    "                  'review_scores_checkin','review_scores_communication','review_scores_location','review_scores_value']\n",
    "\n",
    "df_listings.dropna(subset=target_col_list, inplace=True)\n",
    "df_listings.shape"
   ]
  },
  {
   "cell_type": "code",
   "execution_count": 35,
   "metadata": {},
   "outputs": [
    {
     "data": {
      "text/plain": [
       "f    2407\n",
       "Name: host_is_superhost, dtype: int64"
      ]
     },
     "execution_count": 35,
     "metadata": {},
     "output_type": "execute_result"
    }
   ],
   "source": [
    "#Check the number of non-superhost\n",
    "df_listings[df_listings['host_is_superhost']=='f']['host_is_superhost'].value_counts()"
   ]
  },
  {
   "cell_type": "code",
   "execution_count": 36,
   "metadata": {},
   "outputs": [
    {
     "data": {
      "text/plain": [
       "751"
      ]
     },
     "execution_count": 36,
     "metadata": {},
     "output_type": "execute_result"
    }
   ],
   "source": [
    "#Check the number of superhost\n",
    "len(df_listings[df_listings['host_is_superhost']=='t'])"
   ]
  },
  {
   "cell_type": "markdown",
   "metadata": {},
   "source": [
    "## 4. Modelling\n",
    "\n",
    "### Analyze"
   ]
  },
  {
   "cell_type": "markdown",
   "metadata": {},
   "source": [
    "#### Calculate the mean of each of the review scores for superhost and non superhost"
   ]
  },
  {
   "cell_type": "code",
   "execution_count": 37,
   "metadata": {},
   "outputs": [],
   "source": [
    "def cal_avg_value(df, col_list, is_superhost):\n",
    "    \"\"\"\n",
    "    This function is used to calculate the average value of the target columns for superhost or non-superhost.\n",
    "    \n",
    "    Parameters:\n",
    "    df - Pandas DataFrame without NaN in the target column.\n",
    "    col_list - A list of column names, whose average has to be calculated.\n",
    "    \n",
    "    return - A Pandas Series of average value of the target column\n",
    "    \n",
    "    \"\"\"\n",
    "    \n",
    "    if (is_superhost != True):\n",
    "        df_selected = df[df['host_is_superhost']=='f']\n",
    "    else:\n",
    "        df_selected = df[df['host_is_superhost']=='t']\n",
    "        \n",
    "    return df_selected.loc[:,col_list].mean()"
   ]
  },
  {
   "cell_type": "code",
   "execution_count": 38,
   "metadata": {},
   "outputs": [],
   "source": [
    "superhost_avg_rating = cal_avg_value(df_listings, target_col_list, True)\n",
    "non_superhost_avg_rating = cal_avg_value(df_listings, target_col_list, False)"
   ]
  },
  {
   "cell_type": "markdown",
   "metadata": {},
   "source": [
    "#### Check the results"
   ]
  },
  {
   "cell_type": "code",
   "execution_count": 39,
   "metadata": {},
   "outputs": [
    {
     "data": {
      "text/plain": [
       "(review_scores_rating           97.395473\n",
       " review_scores_accuracy          9.905459\n",
       " review_scores_cleanliness       9.885486\n",
       " review_scores_checkin           9.964048\n",
       " review_scores_communication     9.974700\n",
       " review_scores_location          9.750999\n",
       " review_scores_value             9.749667\n",
       " dtype: float64,\n",
       " review_scores_rating           93.647694\n",
       " review_scores_accuracy          9.552971\n",
       " review_scores_cleanliness       9.453261\n",
       " review_scores_checkin           9.731201\n",
       " review_scores_communication     9.759867\n",
       " review_scores_location          9.564603\n",
       " review_scores_value             9.359369\n",
       " dtype: float64)"
      ]
     },
     "execution_count": 39,
     "metadata": {},
     "output_type": "execute_result"
    }
   ],
   "source": [
    "superhost_avg_rating, non_superhost_avg_rating"
   ]
  },
  {
   "cell_type": "code",
   "execution_count": 40,
   "metadata": {},
   "outputs": [
    {
     "data": {
      "text/plain": [
       "([97.39547270306258,\n",
       "  9.905459387483356,\n",
       "  9.88548601864181,\n",
       "  9.964047936085219,\n",
       "  9.974700399467377,\n",
       "  9.750998668442078,\n",
       "  9.749667110519308],\n",
       " [93.64769422517656,\n",
       "  9.552970502700457,\n",
       "  9.453261321146655,\n",
       "  9.731200664727877,\n",
       "  9.759867054424594,\n",
       "  9.5646032405484,\n",
       "  9.359368508516827])"
      ]
     },
     "execution_count": 40,
     "metadata": {},
     "output_type": "execute_result"
    }
   ],
   "source": [
    "#Convert the pandas Series to list to better modify the values in it\n",
    "superhost_avg_rating = list(superhost_avg_rating)\n",
    "non_superhost_avg_rating = list(non_superhost_avg_rating)\n",
    "superhost_avg_rating, non_superhost_avg_rating"
   ]
  },
  {
   "cell_type": "markdown",
   "metadata": {},
   "source": [
    "#### review_scores_rating is too high to be visualize together with the rest of the review scores. Divide it by 10 for better comparision visually."
   ]
  },
  {
   "cell_type": "code",
   "execution_count": 41,
   "metadata": {},
   "outputs": [
    {
     "data": {
      "text/plain": [
       "([9.739547270306257,\n",
       "  9.905459387483356,\n",
       "  9.88548601864181,\n",
       "  9.964047936085219,\n",
       "  9.974700399467377,\n",
       "  9.750998668442078,\n",
       "  9.749667110519308],\n",
       " [9.364769422517657,\n",
       "  9.552970502700457,\n",
       "  9.453261321146655,\n",
       "  9.731200664727877,\n",
       "  9.759867054424594,\n",
       "  9.5646032405484,\n",
       "  9.359368508516827])"
      ]
     },
     "execution_count": 41,
     "metadata": {},
     "output_type": "execute_result"
    }
   ],
   "source": [
    "# For a better visualization of all the review scores, the review_scores_rating is divided by 10\n",
    "superhost_avg_rating[0] = superhost_avg_rating[0]/10\n",
    "non_superhost_avg_rating[0] = non_superhost_avg_rating[0]/10\n",
    "superhost_avg_rating, non_superhost_avg_rating"
   ]
  },
  {
   "cell_type": "markdown",
   "metadata": {},
   "source": [
    "## 5. Data Evaluation\n",
    "\n",
    "## Visualize"
   ]
  },
  {
   "cell_type": "code",
   "execution_count": 42,
   "metadata": {},
   "outputs": [
    {
     "data": {
      "image/png": "[encoded data removed]",
      "text/plain": [
       "<Figure size 648x360 with 1 Axes>"
      ]
     },
     "metadata": {
      "needs_background": "light"
     },
     "output_type": "display_data"
    }
   ],
   "source": [
    "# Preparing configuration variables\n",
    "x = np.arange(len(target_col_list)-1)\n",
    "x_labels = ['Rating','Accuracy','Cleanliness','Checkin','Communication','Location','Value']\n",
    "bar_width = 0.4\n",
    "\n",
    "# Plot the 2 bar plots in the same axes\n",
    "plt.figure(figsize=(9,5))\n",
    "ax = plt.subplot(111)\n",
    "bar1 = ax.bar(x, superhost_avg_rating, width=bar_width, color='r', align='center', label='Superhost')\n",
    "bar2 = ax.bar(x+bar_width, non_superhost_avg_rating, width=bar_width, color='g', align='center', label='Non-Superhost')\n",
    "\n",
    "# Configuration of the plot\n",
    "ax.set_xticks(x + bar_width/2)\n",
    "ax.set_xticklabels(x_labels)\n",
    "ax.set_yticks([0, 2, 4, 6, 8, 10, 12])\n",
    "ax.set_xlabel('Review')\n",
    "ax.set_ylabel('Scores')\n",
    "ax.set_title('Superhost vs Non-Superhost')\n",
    "\n",
    "# Function to display value at the top of each bar\n",
    "def label_bar(bars):\n",
    "    \"\"\"\n",
    "    Attach a text label above each bar displaying its height\n",
    "    \n",
    "    Parameters:\n",
    "    bars - Bar container \n",
    "    \"\"\"\n",
    "    for bar in bars:\n",
    "        height = bar.get_height()\n",
    "        ax.text(bar.get_x() + bar.get_width()/2., 1.05*height, '%.2f' % float(height), ha='center', va='bottom')\n",
    "\n",
    "label_bar(bar1)\n",
    "label_bar(bar2)\n",
    "\n",
    "# Needed so that the legend box will not be cut off during figure export\n",
    "handles, labels = ax.get_legend_handles_labels()\n",
    "lgd = ax.legend(handles, labels, bbox_to_anchor=(1.25, 1))\n",
    "text = ax.text(0,0, \"\", transform=ax.transAxes)\n",
    "plt.savefig('Superhost_vs_Non-Superhost.png', bbox_extra_artists=(lgd, text), bbox_inches='tight')\n",
    "\n",
    "plt.show()"
   ]
  },
  {
   "cell_type": "code",
   "execution_count": null,
   "metadata": {},
   "outputs": [],
   "source": []
  }
 ],
 "metadata": {
  "kernelspec": {
   "display_name": "Python 3",
   "language": "python",
   "name": "python3"
  },
  "language_info": {
   "codemirror_mode": {
    "name": "ipython",
    "version": 3
   },
   "file_extension": ".py",
   "mimetype": "text/x-python",
   "name": "python",
   "nbconvert_exporter": "python",
   "pygments_lexer": "ipython3",
   "version": "3.8.2"
  }
 },
 "nbformat": 4,
 "nbformat_minor": 4
}
